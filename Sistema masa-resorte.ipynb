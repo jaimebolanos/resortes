{
 "cells": [
  {
   "cell_type": "markdown",
   "metadata": {},
   "source": [
    "<p style=\"text-align: center;font-family:Arial;font-size:32px;Color:red \">Sistema Masa-Resorte</p>\n",
    "\n"
   ]
  },
  {
   "cell_type": "markdown",
   "metadata": {},
   "source": [
    "Considere el sistema masa-resorte mostrado en la siguiente escena interactiva en la cuál podrá mover algunos variables de un sistema masa-resorte.\n",
    "https://www.geogebra.org/m/qfXzK62y"
   ]
  },
  {
   "cell_type": "code",
   "execution_count": 1,
   "metadata": {},
   "outputs": [],
   "source": [
    "#import IPython\n",
    "#url = 'https://www.geogebra.org/m/emz9aUrZ'\n",
    "#iframe = '<iframe src=' + url + ' width=900 height=500></iframe>'#IPython.display.HTML(iframe)\n"
   ]
  },
  {
   "cell_type": "markdown",
   "metadata": {},
   "source": [
    "En la siguiente gráfica aparecen dos sistemas masa-resorte el de la izquierda en su posición de equilibrio y el de la derecha en una posición $x=x_{0}$  (tomado de BRONSON/ACOSTA \"Ecuaciones Diferenciales Modernas.\"\n",
    "\n",
    "El sistema masa-resorte comienza a moverse cuando una de las siguientes condiciones se presenta:  la masa es desplazada, se imprime una velocidad al sistema o se aplica una fuerza externa F(t). Para el resto de esta discusión tomaremos la dirección hacia abajo como positiva.\n",
    "\n",
    "En primera instancia se puede notar que la fuerza que experimenta el resorte está dado por la ley de Hooke y establece que la fuerza aplicada es proporcianal a la elongación $l$:\n",
    "\n",
    "$$F=-k\\cdot l$$"
   ]
  },
  {
   "cell_type": "markdown",
   "metadata": {},
   "source": [
    "![hhhhh](resorte.png)\n",
    "\n"
   ]
  },
  {
   "cell_type": "markdown",
   "metadata": {},
   "source": [
    "Se debe observarse que la dirección hacia abajo es positiva. Además se debe tener en cuenta que las fuerzas que actúan\n",
    "\n",
    "sobre el sistema masa-resorte son tres:\n",
    "\n",
    "1.-La fuerza de resistencia del medio se considera proporcional a la velocidad $F_{medio}=-a v=-a \\dot{x} $, con  \n",
    "       $k>0$,  donde $a$ es la    constante de proporcionalidad (algunas veces sta fuerza es proporciona a $v^2{}$)\n",
    " \n",
    "2.-La fuerza aplicada al sistema $F(t)$\n",
    "\n",
    "3.La fuerza restauradora está dada por la ley de Hooke $F_{Hooke}=-k x$.\n",
    "\n",
    "Cuando la masa está por debajo de la posición de equilibrio (x positiva) $-k x$ será negativa y si la masa se encuentra \n",
    "arriba de la posición de equilibrio entonces la cantidad $-k x$ será positiva.\n",
    "\n",
    "De acuerdo a la segunda ley de Newton la fuerza resulante $F_{Resultante}~~4$  será \n",
    "\n",
    "$$F_{Resultante}= F_{Hooke}+ F_{medio}+ F(t)$$\n",
    "\n",
    "\n",
    "$$F_{Resultante}= m a=m \\ddot{x}=-k x-a \\dot{x}+ F(t)$$\n",
    "\n",
    "\n",
    "\n",
    "De la ecuación anterior podemos reescribir\n",
    "\n",
    "$$\\ddot{x}+\\frac{a }{m}\\dot{x}+\\frac{k }{m}x=\\frac{ F(t)}{m}$$\n"
   ]
  },
  {
   "cell_type": "code",
   "execution_count": null,
   "metadata": {},
   "outputs": [],
   "source": []
  },
  {
   "cell_type": "code",
   "execution_count": null,
   "metadata": {},
   "outputs": [],
   "source": []
  },
  {
   "cell_type": "code",
   "execution_count": null,
   "metadata": {},
   "outputs": [],
   "source": []
  }
 ],
 "metadata": {
  "kernelspec": {
   "display_name": "Python 3",
   "language": "python",
   "name": "python3"
  },
  "language_info": {
   "codemirror_mode": {
    "name": "ipython",
    "version": 2
   },
   "file_extension": ".py",
   "mimetype": "text/x-python",
   "name": "python",
   "nbconvert_exporter": "python",
   "pygments_lexer": "ipython2",
   "version": "2.7.14"
  }
 },
 "nbformat": 4,
 "nbformat_minor": 2
}
